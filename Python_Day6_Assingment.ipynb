{
 "cells": [
  {
   "cell_type": "markdown",
   "metadata": {},
   "source": [
    "# Create a Dictionary using two lists with one line code\n"
   ]
  },
  {
   "cell_type": "code",
   "execution_count": 2,
   "metadata": {},
   "outputs": [
    {
     "name": "stdout",
     "output_type": "stream",
     "text": [
      "{1: 'a', 2: 'b', 3: 'c', 4: 'd', 5: 'e'}\n"
     ]
    }
   ],
   "source": [
    "list1 = [1,2,3,4,5,6,7,8]\n",
    "list2 = [\"a\",\"b\",\"c\",\"d\",\"e\"]\n",
    "\n",
    "print(dict([(list1[each],list2[each]) for each in range(min(len(list1),len(list2)))]))"
   ]
  },
  {
   "cell_type": "markdown",
   "metadata": {},
   "source": [
    "# combine two lists into dictonary list comprehension(without using zip method)"
   ]
  },
  {
   "cell_type": "code",
   "execution_count": 3,
   "metadata": {},
   "outputs": [
    {
     "name": "stdout",
     "output_type": "stream",
     "text": [
      "{1: 'a', 2: 'b', 3: 'c', 4: 'd', 5: 'e'}\n"
     ]
    }
   ],
   "source": [
    "list1=[1,2,3,4,5,6,7,8]\n",
    "list2=['a','b','c','d','e']\n",
    "dict1={}\n",
    "dict1={ list1[i]:list2[i]  for i in range(min(len(list1),len(list2))) }#dictonary comprehension\n",
    "print(dict1)"
   ]
  },
  {
   "cell_type": "code",
   "execution_count": 8,
   "metadata": {},
   "outputs": [
    {
     "name": "stdout",
     "output_type": "stream",
     "text": [
      "{'apple': 100, 'orange': 140, 'banana': 60, 'grapes': 90}\n"
     ]
    }
   ],
   "source": [
    "list_keys = ['apple','orange','banana', 'grapes']\n",
    "list_values = [100,140,60,90]\n",
    "result = {}\n",
    "for key in list_keys:\n",
    "    for values in list_values:\n",
    "        result[key] = values\n",
    "        list_values.remove(values)\n",
    "        break\n",
    "print(str(result))"
   ]
  },
  {
   "cell_type": "code",
   "execution_count": null,
   "metadata": {},
   "outputs": [],
   "source": []
  }
 ],
 "metadata": {
  "kernelspec": {
   "display_name": "Python 3",
   "language": "python",
   "name": "python3"
  },
  "language_info": {
   "codemirror_mode": {
    "name": "ipython",
    "version": 3
   },
   "file_extension": ".py",
   "mimetype": "text/x-python",
   "name": "python",
   "nbconvert_exporter": "python",
   "pygments_lexer": "ipython3",
   "version": "3.8.1"
  }
 },
 "nbformat": 4,
 "nbformat_minor": 4
}
