{
 "cells": [
  {
   "cell_type": "markdown",
   "metadata": {},
   "source": [
    "# Functions"
   ]
  },
  {
   "cell_type": "code",
   "execution_count": 1,
   "metadata": {},
   "outputs": [],
   "source": [
    "def fun1(a,b):\n",
    "    c=a+b\n",
    "    return c\n",
    "    res=fun1(10,20)+20\n",
    "    print(res)\n",
    "    \n"
   ]
  },
  {
   "cell_type": "code",
   "execution_count": 11,
   "metadata": {},
   "outputs": [],
   "source": [
    "def fun1(name,age=32, marks=60):\n",
    "    print(name,age)\n",
    "    print(\" name age marks\")\n",
    "    fun1(\"Manish\",30,80)\n",
    "    fun1(\"Bhaskar\")\n",
    "    fun1(\"sahil\", marks=90)"
   ]
  },
  {
   "cell_type": "code",
   "execution_count": 12,
   "metadata": {},
   "outputs": [
    {
     "name": "stdout",
     "output_type": "stream",
     "text": [
      "12 ()\n",
      "10 (20,)\n",
      "4 (5, 1, 6, 9, 4)\n"
     ]
    }
   ],
   "source": [
    "def fun1(a,*args):\n",
    "    print(a,args)\n",
    "fun1(12)\n",
    "fun1(10,20)\n",
    "fun1(4,5,1,6,9,4)\n",
    "    "
   ]
  },
  {
   "cell_type": "code",
   "execution_count": 17,
   "metadata": {},
   "outputs": [],
   "source": [
    "def fun1(**kwargs):\n",
    "    print(kwargs, type(kwargs))\n",
    "    fun1(name=\"xyz\", marks=70)"
   ]
  },
  {
   "cell_type": "markdown",
   "metadata": {},
   "source": [
    "# PASS BY REFERENCE"
   ]
  },
  {
   "cell_type": "code",
   "execution_count": 21,
   "metadata": {},
   "outputs": [
    {
     "name": "stdout",
     "output_type": "stream",
     "text": [
      "inside before appending [4, 5, 6] 2604351240776\n",
      "After appending [4, 5, 6, 30] 2604351240776\n",
      "After calling [4, 5, 6, 30] 2604351240776\n"
     ]
    }
   ],
   "source": [
    "def fun1(list1):\n",
    "    print(\"inside before appending\",list1,id(list1))\n",
    "    list1.append(30)\n",
    "    print(\"After appending\", list1, id(list1))\n",
    "list2=[4,5,6]\n",
    "fun1(list2)\n",
    "print(\"After calling\", list2, id(list2))"
   ]
  },
  {
   "cell_type": "code",
   "execution_count": 22,
   "metadata": {},
   "outputs": [
    {
     "name": "stdout",
     "output_type": "stream",
     "text": [
      "11\n",
      "After calling 11\n"
     ]
    }
   ],
   "source": [
    "def fun1():\n",
    "    global k\n",
    "    k = k+1\n",
    "    print(k)\n",
    "k=10\n",
    "fun1()\n",
    "print(\"After calling\",k)"
   ]
  },
  {
   "cell_type": "markdown",
   "metadata": {},
   "source": [
    "# Module"
   ]
  },
  {
   "cell_type": "code",
   "execution_count": 27,
   "metadata": {},
   "outputs": [
    {
     "name": "stdout",
     "output_type": "stream",
     "text": [
      "40\n",
      "30\n",
      "['In', 'Out', '_', '__', '___', '__builtin__', '__builtins__', '__doc__', '__loader__', '__name__', '__package__', '__spec__', '_dh', '_i', '_i1', '_i10', '_i11', '_i12', '_i13', '_i14', '_i15', '_i16', '_i17', '_i18', '_i19', '_i2', '_i20', '_i21', '_i22', '_i23', '_i24', '_i25', '_i26', '_i27', '_i3', '_i4', '_i5', '_i6', '_i7', '_i8', '_i9', '_ih', '_ii', '_iii', '_oh', 'exit', 'fun1', 'get_ipython', 'k', 'list2', 'quit', 'sub1', 'sum1']\n"
     ]
    }
   ],
   "source": [
    "def sum1(a,b):\n",
    "    c=a+b\n",
    "    return c\n",
    "def sub1(a,b):\n",
    "    c=a-b\n",
    "    return c\n",
    "print (sum1(10,30))\n",
    "print (sub1(60,30))\n",
    "print (dir())"
   ]
  },
  {
   "cell_type": "code",
   "execution_count": 33,
   "metadata": {},
   "outputs": [],
   "source": [
    "def multi(a,b):\n",
    "    c=a*b\n",
    "    return c\n",
    "def divide (a,b):\n",
    "    c=a/b\n",
    "    print(sum1(90,2))\n",
    "    print(multi(9,8))"
   ]
  },
  {
   "cell_type": "code",
   "execution_count": 39,
   "metadata": {},
   "outputs": [
    {
     "name": "stdout",
     "output_type": "stream",
     "text": [
      "92\n",
      "4\n",
      "40\n",
      "['In', 'Out', '_', '__', '___', '__builtin__', '__builtins__', '__doc__', '__loader__', '__name__', '__package__', '__spec__', '_dh', '_i', '_i1', '_i10', '_i11', '_i12', '_i13', '_i14', '_i15', '_i16', '_i17', '_i18', '_i19', '_i2', '_i20', '_i21', '_i22', '_i23', '_i24', '_i25', '_i26', '_i27', '_i28', '_i29', '_i3', '_i30', '_i31', '_i32', '_i33', '_i34', '_i35', '_i36', '_i37', '_i38', '_i39', '_i4', '_i5', '_i6', '_i7', '_i8', '_i9', '_ih', '_ii', '_iii', '_oh', 'divide', 'exit', 'fun1', 'get_ipython', 'k', 'list2', 'multi', 'quit', 'sub1', 'sum1']\n",
      "72\n"
     ]
    }
   ],
   "source": [
    "print(sum1(90,2))\n",
    "print(sub1(8,4))\n",
    "print(sum1(10,30))\n",
    "print(dir())\n",
    "print(multi(9,8))"
   ]
  }
 ],
 "metadata": {
  "kernelspec": {
   "display_name": "Python 3",
   "language": "python",
   "name": "python3"
  },
  "language_info": {
   "codemirror_mode": {
    "name": "ipython",
    "version": 3
   },
   "file_extension": ".py",
   "mimetype": "text/x-python",
   "name": "python",
   "nbconvert_exporter": "python",
   "pygments_lexer": "ipython3",
   "version": "3.8.1"
  }
 },
 "nbformat": 4,
 "nbformat_minor": 2
}
